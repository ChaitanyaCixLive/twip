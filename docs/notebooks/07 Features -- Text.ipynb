{
 "cells": [
  {
   "cell_type": "code",
   "execution_count": 29,
   "metadata": {
    "collapsed": false
   },
   "outputs": [],
   "source": [
    "from __future__ import division, print_function, absolute_import\n",
    "from past.builtins import basestring\n",
    "\n",
    "import os\n",
    "\n",
    "import pandas as pd\n",
    "\n",
    "from twip.constant import DATA_PATH\n",
    "import string\n"
   ]
  },
  {
   "cell_type": "code",
   "execution_count": 17,
   "metadata": {
    "collapsed": false
   },
   "outputs": [
    {
     "data": {
      "text/html": [
       "<style>.container { width:100% !important; }</style>"
      ],
      "text/plain": [
       "<IPython.core.display.HTML object>"
      ]
     },
     "metadata": {},
     "output_type": "display_data"
    }
   ],
   "source": [
    "import matplotlib\n",
    "from IPython.display import display, HTML \n",
    "%matplotlib inline\n",
    "np = pd.np\n",
    "display(HTML(\"<style>.container { width:100% !important; }</style>\"))\n",
    "pd.set_option('display.max_rows', 6)\n",
    "pd.set_option('display.max_columns', 500)\n",
    "pd.set_option('display.width', 500)"
   ]
  },
  {
   "cell_type": "code",
   "execution_count": 9,
   "metadata": {
    "collapsed": false
   },
   "outputs": [],
   "source": [
    "df = pd.read_csv(os.path.join(DATA_PATH, 'cleaned_tweets.csv.gz'), low_memory=False)"
   ]
  },
  {
   "cell_type": "code",
   "execution_count": 10,
   "metadata": {
    "collapsed": false
   },
   "outputs": [
    {
     "data": {
      "text/plain": [
       "0"
      ]
     },
     "execution_count": 10,
     "metadata": {},
     "output_type": "execute_result"
    }
   ],
   "source": [
    "df = df.drop_duplicates('id', keep='last')[['id', 'id_str', 'text']]\n",
    "df.id == df.id_str\n",
    "(df.id != df.id_str).sum()"
   ]
  },
  {
   "cell_type": "code",
   "execution_count": 11,
   "metadata": {
    "collapsed": true
   },
   "outputs": [],
   "source": [
    "df = df[['id', 'text']]"
   ]
  },
  {
   "cell_type": "code",
   "execution_count": 19,
   "metadata": {
    "collapsed": false
   },
   "outputs": [
    {
     "data": {
      "text/plain": [
       "87        #python never stop learning what you enjoy doi...\n",
       "88        Watching Boa vs. Python — https://t.co/Pivpk02s2A\n",
       "90        Monty Python - The silly walk https://t.co/C0J...\n",
       "                                ...                        \n",
       "193375    RT @RealPython: List of Python API Wrappers &g...\n",
       "193376    Watching Boa vs. Python — https://t.co/5THbrirfQO\n",
       "193377    Чертова дюжина вакансий в IT и Digital /  / 1....\n",
       "Name: text, dtype: object"
      ]
     },
     "execution_count": 19,
     "metadata": {},
     "output_type": "execute_result"
    }
   ],
   "source": [
    "df.text"
   ]
  },
  {
   "cell_type": "code",
   "execution_count": 22,
   "metadata": {
    "collapsed": false
   },
   "outputs": [
    {
     "data": {
      "text/html": [
       "<div>\n",
       "<table border=\"1\" class=\"dataframe\">\n",
       "  <thead>\n",
       "    <tr style=\"text-align: right;\">\n",
       "      <th></th>\n",
       "      <th>id</th>\n",
       "      <th>text</th>\n",
       "      <th>tokens</th>\n",
       "    </tr>\n",
       "  </thead>\n",
       "  <tbody>\n",
       "    <tr>\n",
       "      <th>87</th>\n",
       "      <td>724276510626979840</td>\n",
       "      <td>#python never stop learning what you enjoy doi...</td>\n",
       "      <td>[#python, never, stop, learning, what, you, en...</td>\n",
       "    </tr>\n",
       "    <tr>\n",
       "      <th>88</th>\n",
       "      <td>724276498249572352</td>\n",
       "      <td>Watching Boa vs. Python — https://t.co/Pivpk02s2A</td>\n",
       "      <td>[Watching, Boa, vs., Python, —, https://t.co/P...</td>\n",
       "    </tr>\n",
       "    <tr>\n",
       "      <th>90</th>\n",
       "      <td>724276388325412866</td>\n",
       "      <td>Monty Python - The silly walk https://t.co/C0J...</td>\n",
       "      <td>[Monty, Python, -, The, silly, walk, https://t...</td>\n",
       "    </tr>\n",
       "    <tr>\n",
       "      <th>...</th>\n",
       "      <td>...</td>\n",
       "      <td>...</td>\n",
       "      <td>...</td>\n",
       "    </tr>\n",
       "    <tr>\n",
       "      <th>193375</th>\n",
       "      <td>724275609858392066</td>\n",
       "      <td>RT @RealPython: List of Python API Wrappers &amp;g...</td>\n",
       "      <td>[RT, @RealPython:, List, of, Python, API, Wrap...</td>\n",
       "    </tr>\n",
       "    <tr>\n",
       "      <th>193376</th>\n",
       "      <td>724275578879111169</td>\n",
       "      <td>Watching Boa vs. Python — https://t.co/5THbrirfQO</td>\n",
       "      <td>[Watching, Boa, vs., Python, —, https://t.co/5...</td>\n",
       "    </tr>\n",
       "    <tr>\n",
       "      <th>193377</th>\n",
       "      <td>724275568871673857</td>\n",
       "      <td>Чертова дюжина вакансий в IT и Digital /  / 1....</td>\n",
       "      <td>[Чертова, дюжина, вакансий, в, IT, и, Digital,...</td>\n",
       "    </tr>\n",
       "  </tbody>\n",
       "</table>\n",
       "<p>183070 rows × 3 columns</p>\n",
       "</div>"
      ],
      "text/plain": [
       "                        id                                               text                                             tokens\n",
       "87      724276510626979840  #python never stop learning what you enjoy doi...  [#python, never, stop, learning, what, you, en...\n",
       "88      724276498249572352  Watching Boa vs. Python — https://t.co/Pivpk02s2A  [Watching, Boa, vs., Python, —, https://t.co/P...\n",
       "90      724276388325412866  Monty Python - The silly walk https://t.co/C0J...  [Monty, Python, -, The, silly, walk, https://t...\n",
       "...                    ...                                                ...                                                ...\n",
       "193375  724275609858392066  RT @RealPython: List of Python API Wrappers &g...  [RT, @RealPython:, List, of, Python, API, Wrap...\n",
       "193376  724275578879111169  Watching Boa vs. Python — https://t.co/5THbrirfQO  [Watching, Boa, vs., Python, —, https://t.co/5...\n",
       "193377  724275568871673857  Чертова дюжина вакансий в IT и Digital /  / 1....  [Чертова, дюжина, вакансий, в, IT, и, Digital,...\n",
       "\n",
       "[183070 rows x 3 columns]"
      ]
     },
     "execution_count": 22,
     "metadata": {},
     "output_type": "execute_result"
    }
   ],
   "source": [
    "df['tokens'] = df.text.str.split()\n",
    "df"
   ]
  },
  {
   "cell_type": "code",
   "execution_count": 26,
   "metadata": {
    "collapsed": false
   },
   "outputs": [
    {
     "data": {
      "text/html": [
       "<div>\n",
       "<table border=\"1\" class=\"dataframe\">\n",
       "  <thead>\n",
       "    <tr style=\"text-align: right;\">\n",
       "      <th></th>\n",
       "      <th>id</th>\n",
       "      <th>text</th>\n",
       "      <th>tokens</th>\n",
       "    </tr>\n",
       "  </thead>\n",
       "  <tbody>\n",
       "    <tr>\n",
       "      <th>87</th>\n",
       "      <td>724276510626979840</td>\n",
       "      <td>#python never stop learning what you enjoy doi...</td>\n",
       "      <td>[#python, never, stop, learning, what, you, en...</td>\n",
       "    </tr>\n",
       "    <tr>\n",
       "      <th>88</th>\n",
       "      <td>724276498249572352</td>\n",
       "      <td>Watching Boa vs. Python — https://t.co/Pivpk02s2A</td>\n",
       "      <td>[Watching, Boa, vs., Python, —]</td>\n",
       "    </tr>\n",
       "    <tr>\n",
       "      <th>90</th>\n",
       "      <td>724276388325412866</td>\n",
       "      <td>Monty Python - The silly walk https://t.co/C0J...</td>\n",
       "      <td>[Monty, Python, -, The, silly, walk, via, @You...</td>\n",
       "    </tr>\n",
       "    <tr>\n",
       "      <th>...</th>\n",
       "      <td>...</td>\n",
       "      <td>...</td>\n",
       "      <td>...</td>\n",
       "    </tr>\n",
       "    <tr>\n",
       "      <th>193375</th>\n",
       "      <td>724275609858392066</td>\n",
       "      <td>RT @RealPython: List of Python API Wrappers &amp;g...</td>\n",
       "      <td>[RT, @RealPython:, List, of, Python, API, Wrap...</td>\n",
       "    </tr>\n",
       "    <tr>\n",
       "      <th>193376</th>\n",
       "      <td>724275578879111169</td>\n",
       "      <td>Watching Boa vs. Python — https://t.co/5THbrirfQO</td>\n",
       "      <td>[Watching, Boa, vs., Python, —]</td>\n",
       "    </tr>\n",
       "    <tr>\n",
       "      <th>193377</th>\n",
       "      <td>724275568871673857</td>\n",
       "      <td>Чертова дюжина вакансий в IT и Digital /  / 1....</td>\n",
       "      <td>[Чертова, дюжина, вакансий, в, IT, и, Digital,...</td>\n",
       "    </tr>\n",
       "  </tbody>\n",
       "</table>\n",
       "<p>183070 rows × 3 columns</p>\n",
       "</div>"
      ],
      "text/plain": [
       "                        id                                               text                                             tokens\n",
       "87      724276510626979840  #python never stop learning what you enjoy doi...  [#python, never, stop, learning, what, you, en...\n",
       "88      724276498249572352  Watching Boa vs. Python — https://t.co/Pivpk02s2A                    [Watching, Boa, vs., Python, —]\n",
       "90      724276388325412866  Monty Python - The silly walk https://t.co/C0J...  [Monty, Python, -, The, silly, walk, via, @You...\n",
       "...                    ...                                                ...                                                ...\n",
       "193375  724275609858392066  RT @RealPython: List of Python API Wrappers &g...  [RT, @RealPython:, List, of, Python, API, Wrap...\n",
       "193376  724275578879111169  Watching Boa vs. Python — https://t.co/5THbrirfQO                    [Watching, Boa, vs., Python, —]\n",
       "193377  724275568871673857  Чертова дюжина вакансий в IT и Digital /  / 1....  [Чертова, дюжина, вакансий, в, IT, и, Digital,...\n",
       "\n",
       "[183070 rows x 3 columns]"
      ]
     },
     "execution_count": 26,
     "metadata": {},
     "output_type": "execute_result"
    }
   ],
   "source": [
    "from pug.nlp.regex import url\n",
    "df['tokens'] = df.text.str.replace(url, '').str.split()\n",
    "df"
   ]
  },
  {
   "cell_type": "code",
   "execution_count": 33,
   "metadata": {
    "collapsed": false
   },
   "outputs": [
    {
     "data": {
      "text/plain": [
       "87         python never stop learning what you enjoy doing \n",
       "88                                  Watching Boa vs Python \n",
       "90                  Monty Python The silly walk via YouTube\n",
       "                                ...                        \n",
       "193375    RT RealPython List of Python API Wrappers gt g...\n",
       "193376                              Watching Boa vs Python \n",
       "193377        IT Digital 1 Go 150 000 2 Senior Python Djan \n",
       "Name: txt, dtype: object"
      ]
     },
     "execution_count": 33,
     "metadata": {},
     "output_type": "execute_result"
    }
   ],
   "source": [
    "df['txt'] = df.text.str.replace(url, ' ').str.replace(r'\\W+', ' ').str.replace(r'\\s+', ' ')\n",
    "df.txt"
   ]
  },
  {
   "cell_type": "code",
   "execution_count": 35,
   "metadata": {
    "collapsed": true
   },
   "outputs": [],
   "source": [
    "del df['simplified_text']"
   ]
  },
  {
   "cell_type": "code",
   "execution_count": 37,
   "metadata": {
    "collapsed": false
   },
   "outputs": [
    {
     "data": {
      "text/html": [
       "<div>\n",
       "<table border=\"1\" class=\"dataframe\">\n",
       "  <thead>\n",
       "    <tr style=\"text-align: right;\">\n",
       "      <th></th>\n",
       "      <th>id</th>\n",
       "      <th>text</th>\n",
       "      <th>tokens</th>\n",
       "      <th>txt</th>\n",
       "    </tr>\n",
       "  </thead>\n",
       "  <tbody>\n",
       "    <tr>\n",
       "      <th>87</th>\n",
       "      <td>724276510626979840</td>\n",
       "      <td>#python never stop learning what you enjoy doi...</td>\n",
       "      <td>[python, never, stop, learning, what, you, enj...</td>\n",
       "      <td>python never stop learning what you enjoy doing</td>\n",
       "    </tr>\n",
       "    <tr>\n",
       "      <th>88</th>\n",
       "      <td>724276498249572352</td>\n",
       "      <td>Watching Boa vs. Python — https://t.co/Pivpk02s2A</td>\n",
       "      <td>[Watching, Boa, vs, Python]</td>\n",
       "      <td>Watching Boa vs Python</td>\n",
       "    </tr>\n",
       "    <tr>\n",
       "      <th>90</th>\n",
       "      <td>724276388325412866</td>\n",
       "      <td>Monty Python - The silly walk https://t.co/C0J...</td>\n",
       "      <td>[Monty, Python, The, silly, walk, via, YouTube]</td>\n",
       "      <td>Monty Python The silly walk via YouTube</td>\n",
       "    </tr>\n",
       "    <tr>\n",
       "      <th>...</th>\n",
       "      <td>...</td>\n",
       "      <td>...</td>\n",
       "      <td>...</td>\n",
       "      <td>...</td>\n",
       "    </tr>\n",
       "    <tr>\n",
       "      <th>193375</th>\n",
       "      <td>724275609858392066</td>\n",
       "      <td>RT @RealPython: List of Python API Wrappers &amp;g...</td>\n",
       "      <td>[RT, RealPython, List, of, Python, API, Wrappe...</td>\n",
       "      <td>RT RealPython List of Python API Wrappers gt g...</td>\n",
       "    </tr>\n",
       "    <tr>\n",
       "      <th>193376</th>\n",
       "      <td>724275578879111169</td>\n",
       "      <td>Watching Boa vs. Python — https://t.co/5THbrirfQO</td>\n",
       "      <td>[Watching, Boa, vs, Python]</td>\n",
       "      <td>Watching Boa vs Python</td>\n",
       "    </tr>\n",
       "    <tr>\n",
       "      <th>193377</th>\n",
       "      <td>724275568871673857</td>\n",
       "      <td>Чертова дюжина вакансий в IT и Digital /  / 1....</td>\n",
       "      <td>[IT, Digital, Go, Senior, Python, Djan]</td>\n",
       "      <td>IT Digital Go Senior Python Djan</td>\n",
       "    </tr>\n",
       "  </tbody>\n",
       "</table>\n",
       "<p>183070 rows × 4 columns</p>\n",
       "</div>"
      ],
      "text/plain": [
       "                        id                                               text                                             tokens                                                txt\n",
       "87      724276510626979840  #python never stop learning what you enjoy doi...  [python, never, stop, learning, what, you, enj...   python never stop learning what you enjoy doing \n",
       "88      724276498249572352  Watching Boa vs. Python — https://t.co/Pivpk02s2A                        [Watching, Boa, vs, Python]                            Watching Boa vs Python \n",
       "90      724276388325412866  Monty Python - The silly walk https://t.co/C0J...    [Monty, Python, The, silly, walk, via, YouTube]            Monty Python The silly walk via YouTube\n",
       "...                    ...                                                ...                                                ...                                                ...\n",
       "193375  724275609858392066  RT @RealPython: List of Python API Wrappers &g...  [RT, RealPython, List, of, Python, API, Wrappe...  RT RealPython List of Python API Wrappers gt g...\n",
       "193376  724275578879111169  Watching Boa vs. Python — https://t.co/5THbrirfQO                        [Watching, Boa, vs, Python]                            Watching Boa vs Python \n",
       "193377  724275568871673857  Чертова дюжина вакансий в IT и Digital /  / 1....            [IT, Digital, Go, Senior, Python, Djan]                  IT Digital Go Senior Python Djan \n",
       "\n",
       "[183070 rows x 4 columns]"
      ]
     },
     "execution_count": 37,
     "metadata": {},
     "output_type": "execute_result"
    }
   ],
   "source": [
    "df['txt'] = df.txt.str.replace(r'\\d+', ' ').str.replace(r'\\s+', ' ')\n",
    "df['tokens'] = df.txt.str.split()\n",
    "df"
   ]
  },
  {
   "cell_type": "markdown",
   "metadata": {},
   "source": [
    "Notice that we trounced the hashtag #Python  \n",
    "That's not good.  \n",
    "Can you fix it?  \n",
    "Anything else we might be messing up?  \n",
    "*what other punctuation marks have special meaning in Tweets*  "
   ]
  }
 ],
 "metadata": {
  "kernelspec": {
   "display_name": "Python 2",
   "language": "python",
   "name": "python2"
  },
  "language_info": {
   "codemirror_mode": {
    "name": "ipython",
    "version": 2
   },
   "file_extension": ".py",
   "mimetype": "text/x-python",
   "name": "python",
   "nbconvert_exporter": "python",
   "pygments_lexer": "ipython2",
   "version": "2.7.11+"
  }
 },
 "nbformat": 4,
 "nbformat_minor": 0
}
